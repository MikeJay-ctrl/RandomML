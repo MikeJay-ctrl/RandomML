{
 "cells": [
  {
   "cell_type": "markdown",
   "metadata": {},
   "source": [
    "# 2Layer convnet tensorflow"
   ]
  },
  {
   "cell_type": "code",
   "execution_count": null,
   "metadata": {},
   "outputs": [],
   "source": []
  },
  {
   "cell_type": "code",
   "execution_count": 1,
   "metadata": {},
   "outputs": [
    {
     "name": "stdout",
     "output_type": "stream",
     "text": [
      "Extracting ../data/train-images-idx3-ubyte.gz\n",
      "Extracting ../data/train-labels-idx1-ubyte.gz\n",
      "Extracting ../data/t10k-images-idx3-ubyte.gz\n",
      "Extracting ../data/t10k-labels-idx1-ubyte.gz\n"
     ]
    }
   ],
   "source": [
    "import numpy as np\n",
    "import matplotlib.pyplot as plt\n",
    "import tensorflow as tf\n",
    "%matplotlib inline\n",
    "\n",
    "\n",
    "from tensorflow.examples.tutorials.mnist import input_data\n",
    "data = input_data.read_data_sets(\"../data\", one_hot=True)"
   ]
  },
  {
   "cell_type": "code",
   "execution_count": 2,
   "metadata": {},
   "outputs": [
    {
     "name": "stdout",
     "output_type": "stream",
     "text": [
      "My data looks like:\n",
      "\n",
      " Training images: 55000\n",
      " Training labels: 55000 \n",
      " Test images: 10000\n",
      " Test labels: 10000\n"
     ]
    }
   ],
   "source": [
    "#sanity check\n",
    "print(\"My data looks like:\\n\")\n",
    "print(\" Training images: {}\\n Training labels: {} \".format(len(data.train.images), len(data.train.labels)))\n",
    "print(\" Test images: {}\\n Test labels: {}\".format(len(data.test.images), len(data.test.labels)))"
   ]
  },
  {
   "cell_type": "code",
   "execution_count": 3,
   "metadata": {},
   "outputs": [
    {
     "data": {
      "image/png": "[encoded data removed]",
      "text/plain": [
       "<matplotlib.figure.Figure at 0x11883f518>"
      ]
     },
     "metadata": {},
     "output_type": "display_data"
    }
   ],
   "source": [
    "#visualise a few examples\n",
    "samples = np.random.randint(55000, size=(5))\n",
    "\n",
    "for ind, sample in enumerate(samples):\n",
    "    image = data.train.images[sample].reshape(28, 28)\n",
    "    labelVal = np.argmax(data.train.labels[sample], axis=0)\n",
    "    label = \"Label \" + str(labelVal)\n",
    "    plt.subplot(1, 5, ind+1)\n",
    "    plt.imshow(image)\n",
    "    plt.axis('off')\n",
    "    plt.title(label)"
   ]
  },
  {
   "cell_type": "code",
   "execution_count": 66,
   "metadata": {},
   "outputs": [
    {
     "name": "stdout",
     "output_type": "stream",
     "text": [
      "dimensions of training images:  (55000, 784)\n",
      "dimensions of test images:  (10000, 784)\n",
      "reshape.. \n",
      "dimensions of training images:  (55000, 28, 28)\n",
      "dimensions of training images:  (10000, 28, 28)\n"
     ]
    }
   ],
   "source": [
    "#images are wrong shape for cnn so need to be shaped in order to retain spacial information\n",
    "print(\"dimensions of training images: \", data.train.images.shape)\n",
    "print(\"dimensions of test images: \", data.test.images.shape)\n",
    "print(\"reshape.. \")\n",
    "train_images = data.train.images.reshape(55000, 28, 28)\n",
    "test_images = data.test.images.reshape(10000, 28, 28)\n",
    "print(\"dimensions of training images: \", train_images.shape)\n",
    "print(\"dimensions of training images: \", test_images.shape)\n",
    "\n"
   ]
  },
  {
   "cell_type": "code",
   "execution_count": 4,
   "metadata": {},
   "outputs": [
    {
     "name": "stdout",
     "output_type": "stream",
     "text": [
      "(55000, 10)\n"
     ]
    }
   ],
   "source": [
    "# create actual numeric versions of label data\n",
    "print(data.train.labels.shape)\n",
    "train_label_cls = np.argmax(data.train.labels, axis=0)\n",
    "test_label_cls = np.array([label.argmax() for label in data.test.labels])"
   ]
  },
  {
   "cell_type": "code",
   "execution_count": null,
   "metadata": {},
   "outputs": [],
   "source": []
  },
  {
   "cell_type": "code",
   "execution_count": 5,
   "metadata": {},
   "outputs": [
    {
     "name": "stdout",
     "output_type": "stream",
     "text": [
      "<bound method Tensor.get_shape of <tf.Tensor 'Relu_1:0' shape=(?, 14, 14, 32) dtype=float32>>\n",
      "<bound method Tensor.get_shape of <tf.Tensor 'add_3:0' shape=(?, 10) dtype=float32>>\n"
     ]
    }
   ],
   "source": [
    "tf.reset_default_graph()\n",
    "\n",
    "#create TF Placeholders\n",
    "\n",
    "x = tf.placeholder(tf.float32, [None, 784])\n",
    "y = tf.placeholder(tf.float32, [None, 10])\n",
    "y_class = tf.placeholder(tf.int64, [None])\n",
    "\n",
    "#create TF Variables\n",
    "\n",
    "#conv layers\n",
    "c1 = tf.get_variable('c1', [5, 5, 1 , 16])\n",
    "c1b = tf.get_variable('cb1', [16])\n",
    "\n",
    "c2 = tf.get_variable('c2', [5, 5, 16, 32])\n",
    "c2b = tf.get_variable('cb2', [32])\n",
    "\n",
    "#batchnorm\n",
    "bn_gamma = tf.get_variable('bn_gamma', shape=[16])\n",
    "bn_beta = tf.get_variable('bn_beta', shape=[16])\n",
    "\n",
    "\n",
    "#affine\n",
    "affine1 = tf.get_variable('affine1', [(14 * 14* 32) , 100])\n",
    "a1b = tf.get_variable('a1b', [100])\n",
    "affine2 = tf.get_variable('affine2', [100, 10])\n",
    "a2b = tf.get_variable('a2b', [10])\n",
    "\n",
    "\n",
    "## define comp graph\n",
    "x_img = tf.reshape(x, [-1, 28, 28, 1])\n",
    "c1_out = tf.nn.conv2d(x_img, c1, strides=[1,1,1,1], padding='SAME') + c1b\n",
    "c1_out = tf.nn.relu(c1_out)\n",
    "c1_pool = tf.layers.max_pooling2d(inputs=c1_out, pool_size=[2, 2], strides=2)\n",
    "\n",
    "c2_out = tf.nn.conv2d(c1_pool, c2, strides=[1, 1, 1, 1], padding='SAME') + c2b\n",
    "c2_out = tf.nn.relu(c2_out)\n",
    "c2_flat = tf.reshape(c2_out, [-1, (14 * 14* 32) ])\n",
    "print(c2_out.get_shape)\n",
    "a1_out = tf.matmul(c2_flat, affine1) + a1b\n",
    "logits = tf.matmul(a1_out, affine2) + a2b\n",
    "print(logits.get_shape)\n",
    "# loss and cost\n",
    "predictions = tf.nn.softmax(logits)\n",
    "predicted_class = tf.argmax(predictions, axis=1)\n",
    "\n",
    "total_loss = tf.nn.softmax_cross_entropy_with_logits(logits=logits, labels=y)\n",
    "mean_loss = tf.reduce_mean(total_loss)\n",
    "\n",
    "#optimizer\n",
    "optimizer = tf.train.AdamOptimizer(learning_rate=5e-4).minimize(mean_loss)\n",
    "\n",
    "#have TF compute accuracy\n",
    "correct_prediction = tf.equal(predicted_class, y_class)\n",
    "accuracy = tf.reduce_mean(tf.cast(correct_prediction, tf.float32))\n"
   ]
  },
  {
   "cell_type": "code",
   "execution_count": 6,
   "metadata": {},
   "outputs": [],
   "source": [
    "# Prepare for session run\n",
    "session = tf.Session()\n",
    "\n",
    "#init variables\n",
    "session.run(tf.global_variables_initializer())\n"
   ]
  },
  {
   "cell_type": "code",
   "execution_count": 7,
   "metadata": {},
   "outputs": [],
   "source": [
    "batch_size = 100"
   ]
  },
  {
   "cell_type": "code",
   "execution_count": 8,
   "metadata": {},
   "outputs": [],
   "source": [
    "def train(num_its):\n",
    "    for i in range(num_its):\n",
    "        x_batch, y_batch = data.train.next_batch(batch_size)\n",
    "        training_feed_dict = {x: x_batch, y: y_batch}\n",
    "        session.run(optimizer, training_feed_dict)"
   ]
  },
  {
   "cell_type": "code",
   "execution_count": 9,
   "metadata": {},
   "outputs": [],
   "source": [
    "train(1000)"
   ]
  },
  {
   "cell_type": "code",
   "execution_count": 10,
   "metadata": {},
   "outputs": [
    {
     "name": "stdout",
     "output_type": "stream",
     "text": [
      "test set accuracy is 98.6%\n"
     ]
    }
   ],
   "source": [
    "test_feed_dict = {x: data.test.images, y: data.test.labels, y_class: test_label_cls}\n",
    "acc = session.run(accuracy, feed_dict=test_feed_dict)\n",
    "print(\"test set accuracy is {0:.1%}\".format(acc))"
   ]
  },
  {
   "cell_type": "code",
   "execution_count": null,
   "metadata": {},
   "outputs": [],
   "source": [
    "session.close()"
   ]
  },
  {
   "cell_type": "code",
   "execution_count": null,
   "metadata": {},
   "outputs": [],
   "source": []
  },
  {
   "cell_type": "code",
   "execution_count": null,
   "metadata": {},
   "outputs": [],
   "source": []
  }
 ],
 "metadata": {
  "kernelspec": {
   "display_name": "Python 3",
   "language": "python",
   "name": "python3"
  },
  "language_info": {
   "codemirror_mode": {
    "name": "ipython",
    "version": 3
   },
   "file_extension": ".py",
   "mimetype": "text/x-python",
   "name": "python",
   "nbconvert_exporter": "python",
   "pygments_lexer": "ipython3",
   "version": "3.5.3"
  }
 },
 "nbformat": 4,
 "nbformat_minor": 2
}
