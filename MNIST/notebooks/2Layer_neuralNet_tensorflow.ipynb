{
 "cells": [
  {
   "cell_type": "markdown",
   "metadata": {},
   "source": [
    "# 2Layer FF NN TensorFlow\n",
    "## Tensorflow version of the Vanilla FF NN "
   ]
  },
  {
   "cell_type": "code",
   "execution_count": null,
   "metadata": {},
   "outputs": [],
   "source": []
  },
  {
   "cell_type": "code",
   "execution_count": 29,
   "metadata": {},
   "outputs": [
    {
     "name": "stdout",
     "output_type": "stream",
     "text": [
      "Extracting ../data/train-images-idx3-ubyte.gz\n",
      "Extracting ../data/train-labels-idx1-ubyte.gz\n",
      "Extracting ../data/t10k-images-idx3-ubyte.gz\n",
      "Extracting ../data/t10k-labels-idx1-ubyte.gz\n"
     ]
    }
   ],
   "source": [
    "import numpy as np\n",
    "import tensorflow as tf\n",
    "import matplotlib.pyplot as plt\n",
    "%matplotlib inline\n",
    "\n",
    "\n",
    "#load data\n",
    "from tensorflow.examples.tutorials.mnist import input_data\n",
    "data = input_data.read_data_sets(\"../data\", one_hot=True)"
   ]
  },
  {
   "cell_type": "code",
   "execution_count": 30,
   "metadata": {},
   "outputs": [
    {
     "name": "stdout",
     "output_type": "stream",
     "text": [
      "analyse loaded data:\n",
      "\n",
      " Training images - 55000\n",
      " Training labels - 55000\n",
      " Test images - 10000\n",
      " Test labels - 10000\n"
     ]
    }
   ],
   "source": [
    "# usual sanity check\n",
    "print(\"analyse loaded data:\\n\")\n",
    "print(\" Training images - {}\\n Training labels - {}\".format(len(data.train.images), len(data.train.labels)))\n",
    "print(\" Test images - {}\\n Test labels - {}\".format(len(data.test.images), len(data.test.labels)))"
   ]
  },
  {
   "cell_type": "code",
   "execution_count": 32,
   "metadata": {},
   "outputs": [
    {
     "data": {
      "image/png": "[encoded data removed]",
      "text/plain": [
       "<matplotlib.figure.Figure at 0x122801828>"
      ]
     },
     "metadata": {},
     "output_type": "display_data"
    }
   ],
   "source": [
    "# visualise data\n",
    "samples = np.random.randint(55000, size=(5))\n",
    "for idx, sample in enumerate(samples):\n",
    "    image = data.train.images[sample].reshape(28,28)\n",
    "    labelVal = np.argmax(data.train.labels[sample], axis= 0)\n",
    "    label = \"Label \"+ str(labelVal)\n",
    "    \n",
    "    plt.subplot(1,5,idx+1)\n",
    "    plt.imshow(image)\n",
    "    plt.axis('off')\n",
    "    plt.title(label)"
   ]
  },
  {
   "cell_type": "code",
   "execution_count": null,
   "metadata": {},
   "outputs": [],
   "source": [
    "# we can see that data is already one-hot encoded\n",
    "#images are stored in 1D vector form"
   ]
  },
  {
   "cell_type": "code",
   "execution_count": 47,
   "metadata": {},
   "outputs": [],
   "source": [
    "y_test_ints = np.array([label.argmax() for label in data.test.labels])\n",
    "y_train_ints = np.argmax(data.train.labels, axis=0)"
   ]
  },
  {
   "cell_type": "code",
   "execution_count": 34,
   "metadata": {},
   "outputs": [
    {
     "name": "stdout",
     "output_type": "stream",
     "text": [
      "image size 784\n",
      "num classes 10\n"
     ]
    }
   ],
   "source": [
    "#get vector dims\n",
    "image_size = data.train.images[0].size\n",
    "print(\"image size {}\".format(image_size))\n",
    "\n",
    "num_classes = data.train.labels[0].size\n",
    "print(\"num classes {}\".format(num_classes))\n",
    "\n",
    "hidden_size = 50"
   ]
  },
  {
   "cell_type": "code",
   "execution_count": null,
   "metadata": {},
   "outputs": [],
   "source": []
  },
  {
   "cell_type": "code",
   "execution_count": 57,
   "metadata": {},
   "outputs": [],
   "source": [
    "#Create TF Placeholders - for values that we will inject into computational graph\n",
    "\n",
    "x = tf.placeholder(tf.float32, [None, image_size])\n",
    "y_true = tf.placeholder(tf.float32, [None, num_classes])\n",
    "y_class_num = tf.placeholder(tf.int64, [None])\n",
    "\n",
    "#Create TF variables - for values which are intrinsic to the model and exist within the comp graph\n",
    "w1 = tf.Variable(tf.zeros([image_size, num_classes]))\n",
    "b1 = tf.Variable(tf.zeros([num_classes]))\n",
    "w2 = tf.Variable(tf.zeros([hidden_size, num_classes]))\n",
    "b2 = tf.Variable(tf.zeros([num_classes]))\n",
    "\n",
    "#Define computational graph topology\n",
    "scores = tf.matmul(x, w1) + b1\n",
    "#z1_relu = tf.nn.relu(z1)\n",
    "#scores = tf.matmul(z1_relu, w2) + b2\n",
    "\n",
    "#Define probability calculations\n",
    "predictions = tf.nn.softmax(scores)\n",
    "predicted_class = tf.argmax(predictions, axis=1)\n",
    "\n",
    "#define loss calcs\n",
    "total_loss = tf.nn.softmax_cross_entropy_with_logits(logits=scores, labels=y_true)\n",
    "mean_loss = tf.reduce_mean(total_loss)\n",
    "\n",
    "optimizer = tf.train.GradientDescentOptimizer(learning_rate=0.5).minimize(mean_loss)\n",
    "\n",
    "\n",
    "#have TF compute accuracy\n",
    "correct_prediction = tf.equal(predicted_class, y_class_num)\n",
    "accuracy = tf.reduce_mean(tf.cast(correct_prediction, tf.float32))\n"
   ]
  },
  {
   "cell_type": "code",
   "execution_count": 58,
   "metadata": {},
   "outputs": [],
   "source": [
    "# Prepare model for training Run \n",
    "session = tf.Session()\n",
    "\n",
    "# Initialize variables\n",
    "session.run(tf.global_variables_initializer())\n",
    "\n",
    "batch_size = 100\n",
    "\n",
    "def train(num_its):\n",
    "    for i in range(num_its):\n",
    "        x_batch, y_batch = data.train.next_batch(batch_size)\n",
    "        \n",
    "        training_feed_dict = {x: x_batch, y_true: y_batch}\n",
    "        \n",
    "        session.run(optimizer, feed_dict=training_feed_dict)\n",
    "        \n"
   ]
  },
  {
   "cell_type": "code",
   "execution_count": 61,
   "metadata": {},
   "outputs": [],
   "source": [
    "train(1000)"
   ]
  },
  {
   "cell_type": "code",
   "execution_count": 62,
   "metadata": {},
   "outputs": [
    {
     "name": "stdout",
     "output_type": "stream",
     "text": [
      "test set accuracy is 91.8%\n"
     ]
    }
   ],
   "source": [
    "# test\n",
    "test_feed_dict = {x: data.test.images, y_true: data.test.labels, y_class_num: y_test_ints}\n",
    "acc = session.run(accuracy, feed_dict=test_feed_dict)\n",
    "print(\"test set accuracy is {0:.1%}\".format(acc))"
   ]
  },
  {
   "cell_type": "code",
   "execution_count": 63,
   "metadata": {},
   "outputs": [],
   "source": [
    "session.close()"
   ]
  },
  {
   "cell_type": "code",
   "execution_count": null,
   "metadata": {},
   "outputs": [],
   "source": [
    "# second layer of the network was removed because it overfit the training data"
   ]
  }
 ],
 "metadata": {
  "kernelspec": {
   "display_name": "Python 3",
   "language": "python",
   "name": "python3"
  },
  "language_info": {
   "codemirror_mode": {
    "name": "ipython",
    "version": 3
   },
   "file_extension": ".py",
   "mimetype": "text/x-python",
   "name": "python",
   "nbconvert_exporter": "python",
   "pygments_lexer": "ipython3",
   "version": "3.5.3"
  }
 },
 "nbformat": 4,
 "nbformat_minor": 2
}
