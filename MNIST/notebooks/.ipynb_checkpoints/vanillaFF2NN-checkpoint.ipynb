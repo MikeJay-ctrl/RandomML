{
 "cells": [
  {
   "cell_type": "markdown",
   "metadata": {},
   "source": [
    "# Vanilla 2 layer FF NN \n",
    "\n",
    "## NN will be trained on MNIST dataset"
   ]
  },
  {
   "cell_type": "code",
   "execution_count": null,
   "metadata": {},
   "outputs": [],
   "source": []
  },
  {
   "cell_type": "code",
   "execution_count": 1,
   "metadata": {},
   "outputs": [],
   "source": [
    "from mnist import MNIST\n",
    "import numpy as np\n",
    "import matplotlib.pyplot as plt \n",
    "%matplotlib inline\n",
    "\n",
    "\n",
    "data = MNIST('../data')\n",
    "train_images, train_labels = data.load_training()\n",
    "test_images, test_labels = data.load_testing()\n",
    "\n",
    "train_images = np.array(train_images)\n",
    "train_labels = np.array(train_labels)\n",
    "test_images = np.array(test_images)\n",
    "test_labels = np.array(test_labels)\n"
   ]
  },
  {
   "cell_type": "code",
   "execution_count": 2,
   "metadata": {},
   "outputs": [
    {
     "name": "stdout",
     "output_type": "stream",
     "text": [
      "analyse loaded data:\n",
      " \n",
      " Training images - 60000\n",
      " Training labels - 60000\n",
      " Test images - 10000\n",
      " Test labels - 10000\n"
     ]
    }
   ],
   "source": [
    "## Sanity check\n",
    "\n",
    "print(\"analyse loaded data:\\n \")\n",
    "print(\" Training images - {}\\n Training labels - {}\".format(len(train_images), len(train_labels))) \n",
    "print(\" Test images - {}\\n Test labels - {}\".format(len(test_images), len(test_labels))) "
   ]
  },
  {
   "cell_type": "code",
   "execution_count": 3,
   "metadata": {},
   "outputs": [
    {
     "data": {
      "image/png": "[encoded data removed]",
      "text/plain": [
       "<matplotlib.figure.Figure at 0x107fe4e48>"
      ]
     },
     "metadata": {},
     "output_type": "display_data"
    }
   ],
   "source": [
    "## train labels are stored as a single vector with the number corisponding to which digit the image is\n",
    "## test labels are stored as a 784 index 1d array\n",
    "\n",
    "# visualise image data\n",
    "\n",
    "samples = np.random.randint(60000, size=(5))\n",
    "\n",
    "#print(samples)\n",
    "#print(np.asarray(train_images[samples[0]]).reshape(28,28).shape)\n",
    "\n",
    "for idx, sample in enumerate(samples):\n",
    "    image = np.asarray(train_images[sample]).reshape(28, 28)\n",
    "    label = train_labels[sample]\n",
    "    plt.subplot(1, 5, idx+1)\n",
    "    plt.imshow(image, cmap='gray')\n",
    "    plt.title('label = {}'.format(label))\n",
    "    plt.axis('off')\n",
    "    \n",
    "\n"
   ]
  },
  {
   "cell_type": "code",
   "execution_count": 4,
   "metadata": {},
   "outputs": [],
   "source": [
    "## subsample the dataset and segment into Train, validataionand test\n",
    "\n",
    "#subsample_size = 2000\n",
    "\n",
    "#train_images = train_images[::subsample_size]\n",
    "#train_labels = train_labels[subsample_size:2*subsample_size]\n",
    "\n",
    "#validation_images = train_labels[::subsample_size]\n",
    "#validation_labels = train_labels[subsample_size:2*subsample_size]\n"
   ]
  },
  {
   "cell_type": "code",
   "execution_count": 5,
   "metadata": {},
   "outputs": [],
   "source": [
    "# make labels one-hot?\n",
    "\n",
    "train_labels = np.array(train_labels)\n",
    "\n",
    "train_labels_v = np.zeros((60000,10))\n",
    "train_labels_v[np.arange(60000), train_labels] = 1\n",
    "\n",
    "test_labels = np.array(test_labels)\n",
    "\n",
    "test_labels_v = np.zeros((10000,10))\n",
    "test_labels_v[np.arange(10000), test_labels] = 1"
   ]
  },
  {
   "cell_type": "code",
   "execution_count": 6,
   "metadata": {},
   "outputs": [],
   "source": [
    "#network consists of 2 hidden layers an input layer and an output layer\n",
    "# non-linearity is sigmoid\n",
    "# probability function is softmax\n",
    "# loss function is cross entropy"
   ]
  },
  {
   "cell_type": "code",
   "execution_count": 93,
   "metadata": {},
   "outputs": [],
   "source": [
    "class FFNNModel:\n",
    "    \n",
    "    def __init__(self, input_sz, hidden_sz, output_sz, weightInitFcn=None, std=1e-4):\n",
    "        self.W1 = std * np.random.randn(input_sz, output_sz) #np.array(, 50])\n",
    "        self.b1 = np.zeros(output_sz) #np.zeros(10)\n",
    "    \n",
    "    def c_e_loss(self, probs, labels):\n",
    "        N = probs.shape[0]\n",
    "        return (np.sum(-np.log(probs[range(N), labels])) / N)\n",
    "        \n",
    "    def softmax(self, scores):\n",
    "        scores -= np.max(scores, axis=1, keepdims=True)\n",
    "        e_scores = np.exp(scores)\n",
    "        return e_scores/ np.sum(e_scores, axis=1, keepdims=True) \n",
    "    \n",
    "    def calc_loss(self, x, y, y_gt, reg):\n",
    "        #relu = lambda x: np.maximum(0, x)\n",
    "        N = x.shape[0]\n",
    "\n",
    "        #forward pass\n",
    "        a1 = x.dot(self.W1) + self.b1\n",
    "        scores = a1\n",
    "        probabilities = self.softmax(scores)\n",
    "        #loss calculation\n",
    "        data_loss = self.c_e_loss(probabilities, y_gt)\n",
    "        reg_loss = 0.5 * reg *np.sum(self.W1*self.W1) \n",
    "        \n",
    "        loss = data_loss + reg_loss\n",
    "         \n",
    "        #backward pass  -- gradient\n",
    "        dscores = probabilities\n",
    "        dscores[range(N), y_gt] -= 1\n",
    "        dscores /= N\n",
    "\n",
    "        db1 = np.sum(dscores, axis=0)\n",
    "        dw1 = np.dot(x.T, dscores)\n",
    "        dx = np.dot(dscores, self.W1.T)\n",
    "        \n",
    "        # weights\n",
    "        #W1 += dW1 + reg * W1\n",
    "        return loss, {'dx': dx, 'W1': dw1, 'b1': db1}\n",
    "        \n",
    "        \n",
    "    def train(self, x, y, y_gt, lr, batch_size, iterations, reg=5e-6):\n",
    "        num_train = x.shape[0]\n",
    "        its_per_epoch = max(num_train/iterations, 1)\n",
    "        loss_history = []\n",
    "        \n",
    "        for i in range(iterations):     \n",
    "            samples = np.random.choice(np.arange(num_train), batch_size)\n",
    "\n",
    "            x_batch = x[samples]\n",
    "            y_batch = y[samples]\n",
    "            y_gt_batch = y_gt[samples]\n",
    "            \n",
    "            loss, grads = self.calc_loss(x_batch, y_batch, y_gt_batch, reg)\n",
    "            loss_history.append(loss)\n",
    "            self.W1 += -lr * grads['W1']\n",
    "            self.b1 += -lr * grads['b1']\n",
    "            \n",
    "            #if it % its_per_epoch == 0:\n",
    "            #print something\n",
    "            \n",
    "        return {\n",
    "            'loss_history' : loss_history\n",
    "        }\n",
    "    \n",
    "    \n",
    "    def predict(self, x):      \n",
    "        scores = np.dot(x, self.W1)    \n",
    "        prediction = np.argmax(scores, axis=1)\n",
    "        return prediction\n",
    "        \n",
    "        \n",
    "            \n",
    "            \n",
    "        \n",
    "        \n",
    "        "
   ]
  },
  {
   "cell_type": "code",
   "execution_count": 99,
   "metadata": {},
   "outputs": [
    {
     "name": "stdout",
     "output_type": "stream",
     "text": [
      "0.8926\n"
     ]
    },
    {
     "data": {
      "image/png": "[encoded data removed]",
      "text/plain": [
       "<matplotlib.figure.Figure at 0x1116a9f98>"
      ]
     },
     "metadata": {},
     "output_type": "display_data"
    }
   ],
   "source": [
    "#use model on dataset\n",
    "\n",
    "# model params\n",
    "input_size = 784\n",
    "hidden_size = 50\n",
    "output_size = 10\n",
    "learning_rate = 1e-6\n",
    "batch_size = 300\n",
    "iterations = 500\n",
    "\n",
    "model = FFNNModel(input_size, hidden_size, output_size)\n",
    "stats = model.train(train_images, train_labels_v, train_labels, lr=learning_rate, batch_size=batch_size, iterations=iterations)\n",
    "\n",
    "#validation_res = model.predict(validation_images)\n",
    "test_res = model.predict(test_images)\n",
    "#review validation results\n",
    "#--- here ---#\n",
    "#accuracy = np.equal(test_res[np.arange(test_labels.shape[0]), test_labels_v] == 1)\n",
    "accuracy = (test_res == test_labels).mean()\n",
    "print(accuracy)\n",
    "#test model\n",
    "\n",
    "#review test results\n",
    "#--- here ---#\n",
    "#print(stats)\n",
    "plt.plot(stats['loss_history'])\n",
    "plt.xlabel('its')\n",
    "plt.show()\n"
   ]
  }
 ],
 "metadata": {
  "kernelspec": {
   "display_name": "Python 3",
   "language": "python",
   "name": "python3"
  },
  "language_info": {
   "codemirror_mode": {
    "name": "ipython",
    "version": 3
   },
   "file_extension": ".py",
   "mimetype": "text/x-python",
   "name": "python",
   "nbconvert_exporter": "python",
   "pygments_lexer": "ipython3",
   "version": "3.5.3"
  }
 },
 "nbformat": 4,
 "nbformat_minor": 2
}
