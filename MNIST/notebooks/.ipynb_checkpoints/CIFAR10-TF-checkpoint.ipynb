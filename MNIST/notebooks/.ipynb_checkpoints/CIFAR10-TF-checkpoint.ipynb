{
 "cells": [
  {
   "cell_type": "code",
   "execution_count": 2,
   "metadata": {},
   "outputs": [],
   "source": [
    "##CIFAR-10!"
   ]
  },
  {
   "cell_type": "code",
   "execution_count": null,
   "metadata": {},
   "outputs": [],
   "source": []
  },
  {
   "cell_type": "code",
   "execution_count": 3,
   "metadata": {},
   "outputs": [],
   "source": [
    "#Import necessary libs\n",
    "import numpy as np\n",
    "import tensorflow as tf\n",
    "import matplotlib.pyplot as plt\n",
    "import pickle\n",
    "%matplotlib inline"
   ]
  },
  {
   "cell_type": "code",
   "execution_count": 4,
   "metadata": {},
   "outputs": [],
   "source": [
    "#Import training data\n",
    "data_all = [None]*2\n",
    "data = []\n",
    "labels = []\n",
    "for i in range(1,6):\n",
    "    with open(\"cs231n/datasets/cifar-10-batches-py/data_batch_%d\" % i, 'rb') as db:\n",
    "        data_all = pickle.load(db, encoding='bytes')\n",
    "        data.extend(data_all[b'data'].reshape(10000, 3, 32, 32).transpose(0,2,3,1).astype(\"uint8\"))\n",
    "        labels.extend(data_all[b'labels'])\n",
    "\n",
    "data = np.array(data)\n",
    "labels = np.array(labels)\n",
    "print(data.shape)        "
   ]
  },
  {
   "cell_type": "code",
   "execution_count": null,
   "metadata": {},
   "outputs": [],
   "source": [
    "#Sanity Check.. Visualise data\n",
    "for i in range(5):\n",
    "    image = data[i]\n",
    "    plt.subplot(1,5,i+1)\n",
    "    plt.imshow(image)"
   ]
  },
  {
   "cell_type": "code",
   "execution_count": null,
   "metadata": {},
   "outputs": [],
   "source": [
    "#import test data\n",
    "test_data = []\n",
    "test_labels = []\n",
    "with open(\"cs231n/datasets/cifar-10-batches-py/data_batch_%d\" % i, 'rb') as db:\n",
    "    td = pickle.load(db, encoding='latin1')\n",
    "    test_data.extend(td['data'].reshape(10000, 3, 32, 32).transpose(0,2,3,1).astype(\"uint8\"))\n",
    "    test_labels.extend(td['labels'])"
   ]
  },
  {
   "cell_type": "code",
   "execution_count": null,
   "metadata": {},
   "outputs": [],
   "source": [
    "#Sanity Check.. Visualise data\n",
    "for i in range(5):\n",
    "    image = test_data[i]\n",
    "    plt.subplot(1,5,i+1)\n",
    "    plt.imshow(image)"
   ]
  },
  {
   "cell_type": "code",
   "execution_count": null,
   "metadata": {},
   "outputs": [],
   "source": [
    "# Define and train model\n",
    "tf.reset_default_graph()\n",
    "\n",
    "x = tf.placeholder(tf.float32, [None, 32, 32, 3])\n",
    "y = tf.placeholder(tf.int64, [None])\n",
    "keep_prob = tf.placeholder(tf.float32)\n",
    "\n",
    "\n",
    "#def model():\n",
    "    \n",
    "#\n",
    "# Create TF Variables\n",
    "#\n",
    "#Convolution layers\n",
    "wconv1 = tf.get_variable('wconv1', [5,5, 3, 32])\n",
    "bconv1 = tf.get_variable('bconv1', [32])\n",
    "\n",
    "#Add BatchNormalization layer between conv layers\n",
    "conv_bn_gamma = tf.get_variable('conv_bn_gamma', shape=[32])\n",
    "conv_bn_beta = tf.get_variable('conv_bn_beta', shape=[32])\n",
    "\n",
    "wconv2 = tf.get_variable('wconv2', [5,5,32,64])\n",
    "bconv2 = tf.get_variable('bconv2', [64])\n",
    "    \n",
    "    \n",
    "#affine layers\n",
    "fc_w1 = tf.get_variable('fc_w1', [16*16*64, 100])\n",
    "fc_b1 = tf.get_variable('fc_b1', [100])\n",
    "\n",
    "fc_w2 = tf.get_variable('fc_w2', [100, 10])\n",
    "fc_b2 = tf.get_variable('fc_b2', [10])\n",
    "    \n",
    "    \n",
    "#Add BatchNormalization layer between conv layers\n",
    "fc_bn_gamma = tf.get_variable('fc_bn_gamma', shape=[100])\n",
    "fc_bn_beta = tf.get_variable('fc_bn_beta', shape=[100])\n",
    "    \n",
    "    \n",
    "\n",
    "c1_out = tf.nn.conv2d(x, wconv1, strides=[1,1,1,1], padding='SAME') + bconv1\n",
    "c1_out = tf.nn.relu(c1_out)\n",
    "\n",
    "mean, var = tf.nn.moments(c1_out, axes=[0,1,2], keep_dims=False)\n",
    "conv_bn = tf.nn.batch_normalization(c1_out, mean, var, conv_bn_gamma, conv_bn_beta, 1e-6)\n",
    "\n",
    "c1_pool = tf.layers.max_pooling2d(inputs=conv_bn, pool_size=[2,2], strides=2)  \n",
    "\n",
    "\n",
    "c2_out = tf.nn.conv2d(c1_pool, wconv2, strides=[1,1,1,1], padding=\"SAME\") + bconv2\n",
    "c2_out = tf.nn.relu(c2_out)\n",
    "\n",
    "\n",
    "c2_flat = tf.reshape(c2_out, shape=[-1, (16*16*64)])\n",
    "    \n",
    "fc1_out = tf.matmul(c2_flat, fc_w1) + fc_b1\n",
    "fc1_out = tf.nn.relu(fc1_out)\n",
    "\n",
    "mean, var = tf.nn.moments(fc1_out, axes=[0], keep_dims=True)\n",
    "fc_bn = tf.nn.batch_normalization(fc1_out, mean, var, fc_bn_gamma, fc_bn_beta, 1e-6)\n",
    "\n",
    "\n",
    "h_fc1_drop = tf.nn.dropout(fc_bn, keep_prob)\n",
    "logits = tf.matmul(h_fc1_drop, fc_w2) + fc_b2\n",
    "    \n",
    "predictions = tf.nn.softmax(logits)\n",
    "predicted_class = tf.argmax(predictions, axis=1)\n",
    "    \n",
    "total_loss = tf.nn.softmax_cross_entropy_with_logits(labels=tf.one_hot(y, 10), logits=logits)\n",
    "mean_loss = tf.reduce_mean(total_loss)\n",
    "    \n",
    "optimizer = tf.train.AdamOptimizer(5e-4).minimize(mean_loss)\n",
    "    \n",
    "correct_prediction = tf.equal(predicted_class, y)\n",
    "accuracy = tf.reduce_mean(tf.cast(correct_prediction, tf.float32))\n",
    "    \n",
    "    \n",
    "\n"
   ]
  },
  {
   "cell_type": "code",
   "execution_count": null,
   "metadata": {},
   "outputs": [],
   "source": [
    "# Run using GPU\n",
    "with tf.Session() as sess:\n",
    "    with tf.device(\"/gpu:0\"):\n",
    "        sess.run(tf.global_variables_initializer())\n",
    "        batch_size=400\n",
    "        \n",
    "        def train(num_its):  \n",
    "            for i in range(num_its):\n",
    "                batch_idx = np.random.randint(data.shape[0], size=batch_size)\n",
    "                x_batch = data[batch_idx]\n",
    "                y_batch = labels[batch_idx]\n",
    "                training_feed_dict ={ x: x_batch, y: y_batch, keep_prob:0.5}\n",
    "                sess.run(optimizer, training_feed_dict)\n",
    "            \n",
    "        train(1000)\n",
    "            \n",
    "        test_feed_dict = {x: test_data, y: test_labels, keep_prob:1}\n",
    "        acc = sess.run(accuracy, feed_dict=test_feed_dict)\n",
    "        print(\"test set accuracy is {0:.1%}\".format(acc))"
   ]
  }
 ],
 "metadata": {
  "kernelspec": {
   "display_name": "Python 3",
   "language": "python",
   "name": "python3"
  },
  "language_info": {
   "codemirror_mode": {
    "name": "ipython",
    "version": 3
   },
   "file_extension": ".py",
   "mimetype": "text/x-python",
   "name": "python",
   "nbconvert_exporter": "python",
   "pygments_lexer": "ipython3",
   "version": "3.5.3"
  }
 },
 "nbformat": 4,
 "nbformat_minor": 2
}
