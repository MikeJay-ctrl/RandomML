{
 "cells": [
  {
   "cell_type": "markdown",
   "metadata": {},
   "source": [
    "# Raw Convnet \n",
    "## 2 convolutional layers with pooling and batchnorm\n",
    "## 2 fully connected layers"
   ]
  },
  {
   "cell_type": "code",
   "execution_count": null,
   "metadata": {},
   "outputs": [],
   "source": []
  },
  {
   "cell_type": "code",
   "execution_count": 8,
   "metadata": {},
   "outputs": [],
   "source": [
    "from mnist import MNIST\n",
    "import numpy as np\n",
    "import matplotlib.pyplot as plt\n",
    "%matplotlib inline\n",
    "\n",
    "data = MNIST('../data')\n",
    "train_images, train_labels = data.load_training()\n",
    "test_images, test_labels = data.load_testing()\n"
   ]
  },
  {
   "cell_type": "code",
   "execution_count": 10,
   "metadata": {},
   "outputs": [
    {
     "name": "stdout",
     "output_type": "stream",
     "text": [
      " Number of training images - 60000\n",
      " Number of training labels - 60000\n",
      " Number of test images -10000\n",
      " Number of test labels - 10000\n"
     ]
    }
   ],
   "source": [
    "## sanity check \n",
    "#check the data was imported correctly as usual\n",
    "\n",
    "print(' Number of training images - {}\\n Number of training labels - {}'.format(len(train_images), len(train_labels)))\n",
    "print(' Number of test images -{}\\n Number of test labels - {}'.format(len(test_images), len(test_labels)))"
   ]
  },
  {
   "cell_type": "code",
   "execution_count": 11,
   "metadata": {},
   "outputs": [
    {
     "data": {
      "image/png": "[encoded data removed]",
      "text/plain": [
       "<matplotlib.figure.Figure at 0x106a2a7b8>"
      ]
     },
     "metadata": {},
     "output_type": "display_data"
    }
   ],
   "source": [
    "## Visualise the data\n",
    "samples = np.random.randint(60000, size=5)\n",
    "\n",
    "for idx, sample in enumerate(samples):\n",
    "    image = np.asarray(train_images[sample]).reshape(28, 28)\n",
    "    label = train_labels[sample]\n",
    "    \n",
    "    plt.subplot(1, 5, idx+1)\n",
    "    plt.imshow(image,cmap='gray')\n",
    "    plt.title(label)\n",
    "    plt.axis('off')"
   ]
  },
  {
   "cell_type": "code",
   "execution_count": 13,
   "metadata": {},
   "outputs": [
    {
     "name": "stdout",
     "output_type": "stream",
     "text": [
      "initially shape of image data was - (60000, 784)\n",
      "after re-shape its now - (60000, 28, 28)\n"
     ]
    }
   ],
   "source": [
    "#image data is fine but the arrays are fine but are in the wrong shape... \n",
    "#images are currently in a long row vector need to have spacial information for cnn to be effective \n",
    "\n",
    "print('initially shape of image data was - {}'.format(np.asarray(train_images).shape)) #60000 * 784\n",
    "\n",
    "#first change to NP array\n",
    "train_data = np.array(train_images)\n",
    "test_data  = np.array(test_images)\n",
    "\n",
    "#reshape\n",
    "train_data = train_data.reshape(60000,28, 28)\n",
    "test_data = test_data.reshape(10000,28, 28)\n",
    "\n",
    "print('after re-shape its now - {}'.format(np.asarray(train_data).shape)) #60000 * 28 *28\n",
    "\n"
   ]
  },
  {
   "cell_type": "code",
   "execution_count": 14,
   "metadata": {},
   "outputs": [
    {
     "data": {
      "image/png": "[encoded data removed]",
      "text/plain": [
       "<matplotlib.figure.Figure at 0x11166ed30>"
      ]
     },
     "metadata": {},
     "output_type": "display_data"
    }
   ],
   "source": [
    "#sanity check for new data\n",
    "#prove it is correct shape\n",
    "samples = np.random.randint(60000, size = 10)\n",
    "for idx, sample in enumerate(samples):\n",
    "    image = train_data[sample]\n",
    "    label = train_labels[sample]\n",
    "    plt.subplot(1, 10, idx+1)\n",
    "    plt.imshow(image)\n",
    "    plt.title(label)\n",
    "    plt.axis('off')"
   ]
  },
  {
   "cell_type": "code",
   "execution_count": 15,
   "metadata": {},
   "outputs": [
    {
     "name": "stdout",
     "output_type": "stream",
     "text": [
      "the number - 8\n",
      "is represented by the one-hot vector:  [ 0.  0.  0.  0.  0.  0.  0.  0.  1.  0.]\n",
      "\n",
      "\n",
      "the number - 6\n",
      "is represented by the one-hot vector:  [ 0.  0.  0.  0.  0.  0.  1.  0.  0.  0.]\n",
      "\n",
      "\n",
      "the number - 7\n",
      "is represented by the one-hot vector:  [ 0.  0.  0.  0.  0.  0.  0.  1.  0.  0.]\n",
      "\n",
      "\n"
     ]
    }
   ],
   "source": [
    "#I will also conver the labels into one-hot vectors\n",
    "#such that the position of the number '1' inside the vector indicates its label\n",
    "\n",
    "train_labels = np.array(train_labels)\n",
    "test_labels = np.array(test_labels)\n",
    "train_images = np.array(train_images)\n",
    "test_images = np.array(test_images)\n",
    "\n",
    "train_labels_v = np.zeros((60000,10))\n",
    "train_labels_v[np.arange(60000), train_labels] = 1\n",
    "\n",
    "test_labels_v = np.zeros((10000,10))\n",
    "test_labels_v[np.arange(10000), test_labels] = 1\n",
    "\n",
    "##Sanity check:\n",
    "\n",
    "samples = np.random.randint(60000, size=3)\n",
    "\n",
    "for sample in samples:\n",
    "    print('the number - {}'.format(train_labels[sample]))\n",
    "    print('is represented by the one-hot vector: ', train_labels_v[sample])\n",
    "    print('\\n')"
   ]
  },
  {
   "cell_type": "code",
   "execution_count": null,
   "metadata": {},
   "outputs": [],
   "source": [
    "# Lets train this data!\n",
    "# network structure:\n",
    "# ConvLayer1 -> relu ->  convlayer2 -> relu -> -> FCLayer 1 -> FCLayer 2 -> output\n",
    "#"
   ]
  },
  {
   "cell_type": "code",
   "execution_count": 193,
   "metadata": {},
   "outputs": [],
   "source": [
    "class Model:\n",
    "    \n",
    "    def __init__(self, input_dims=28, num_filters=(16, 32), filter_sz=5,\n",
    "                 sample_sz=2, num_classes=10, weight_scale=1e-4, initial_params=(1,2)):\n",
    "        \n",
    "        num_l1_filters, num_l2_filters = num_filters\n",
    "        self.stride, self.pad = initial_params\n",
    "        \n",
    "        #initialize the conv filters\n",
    "        self.c1_filters = np.random.normal(scale=weight_scale, size=(num_l1_filters, 1, filter_sz, filter_sz))\n",
    "        self.c1_b = np.zeros([num_l1_filters])\n",
    "        self.c2_filters = np.random.normal(scale=weight_scale, size=(num_l2_filters, 1, filter_sz, filter_sz))\n",
    "        self.c2_b = np.zeros([num_l2_filters])\n",
    "        \n",
    "        #initialize the affine layer weights\n",
    "        self.fc_W1 = np.random.normal(scale=weight_scale, size=(28*28 * 32, 100))\n",
    "        self.fc_b1 = np.zeros([100])\n",
    "        self.fc_W2 = np.random.normal(scale=weight_scale, size=(100, num_classes))\n",
    "        self.fc_b2 = np.zeros([10])\n",
    "        \n",
    "    def convForward(self, x, k, b):\n",
    "        stride, pad = self.stride, self.pad\n",
    "        N = x.shape[0]\n",
    "        H, W = x[0][0].shape[0], x[0][0].shape[1]\n",
    "        F = k.shape[0]\n",
    "        HH, WW = k[0][0].shape[0], k[0][0].shape[1]\n",
    "        \n",
    "        h_out = int(1+ (H - HH + (2 * pad)) / stride )\n",
    "        w_out = int(1+ (W - WW + ((2 * pad))) / stride )\n",
    "        \n",
    "        x_pad = np.pad((x), ( (0,), (0,), (pad,), (pad,)), 'constant')\n",
    "        output = np.zeros((N, F, h_out, w_out))\n",
    "        for n in range(N):\n",
    "            for f in range(F):\n",
    "                for h in range(h_out):\n",
    "                    for w in range(w_out):\n",
    "                        output[n, f, h, w] = np.sum((x_pad[n, :, (h * stride) : ((h+HH)*stride), (w * stride) : ((w+WW)*stride)] * k[f])+ b[f])\n",
    "        \n",
    "        cache = (x, k, b)\n",
    "        return output, cache\n",
    "    \n",
    "    \n",
    "    \n",
    "    def convBackward(self, dout, cache):\n",
    "        \n",
    "        x, k, b = cache\n",
    "        stride, pad = self.stride, self.pad\n",
    "        \n",
    "        N, F, Hh, Ww = dout.shape\n",
    "        N, C, H, W = x.shape\n",
    "        F, Ch, HH, WW = k.shape\n",
    "        print(x.shape)\n",
    "        print(dout.shape)\n",
    "        \n",
    "        db = np.zeros((F))\n",
    "        for f in range(F):\n",
    "            db[f] = np.sum(dout[:,f,:,:])##shape\n",
    "            \n",
    "            \n",
    "        xout = np.pad(x, ((0,), (0,), (pad,), (pad,)), 'constant')\n",
    "        dw = np.zeros((F, C, HH, WW))\n",
    "        \n",
    "        for f in range(F):\n",
    "            for c in range(Ch):\n",
    "                for h in range(HH):\n",
    "                    for w in range(WW):\n",
    "                        sub_x = xout[:, c, h:(h + Hh *stride): stride, w:(w+Ww *stride):stride] #which part of X_pad did you affect\n",
    "                        dw[f, c, h, w] = np.sum(dout[:,f,:,:] * sub_x)\n",
    "                        \n",
    "\n",
    "                    \n",
    "        dx = np.zeros((N, C, H, W))\n",
    "        for n in range(N):\n",
    "            for h in range(H):\n",
    "                for w in range(W):\n",
    "                    for f in range(F):\n",
    "                        for hh in range(Hh):\n",
    "                            for ww in range(Ww):\n",
    "                                mask1 = np.zeros_like(k[f, :, :, :]) #which part of the mask did you mingle with\n",
    "                                mask2 = np.zeros_like(k[f, :, :, :])\n",
    "                                if (h + pad-hh * stride) < HH and (h + pad -hh *stride) >=0:\n",
    "                                      mask1[:, h + pad - hh * stride, :] = 1.0\n",
    "                                if (W + pad - ww * stride) < WW and (W + pad - ww * stride) >= 0:\n",
    "                                    mask2[:, :, W + pad - ww * stride] = 1.0\n",
    "                                w_masked = np.sum(k[f, :, :, :] * mask1 * mask2, axis=(1, 2))\n",
    "                                dx[n, :, h, w] += dout[n, f, hh, ww] * w_masked\n",
    "                                \n",
    "        return {'b':db, 'x':dx, 'w':dw}\n",
    "                    \n",
    "                    \n",
    "    def fc_forward(self, x):\n",
    "        relu = lambda x: np.maximum(0, x)\n",
    "            \n",
    "        a1 = x.dot(self.fc_W1) + self.fc_b1\n",
    "        a1_relu = relu(a1)\n",
    "        scores = a1_relu.dot(self.fc_W2) + self.fc_b2 #logits\n",
    "            \n",
    "        return scores, (x, a1, a1_relu)\n",
    "             \n",
    "        \n",
    "    def fc_backward(self, y, y_cls, scores, cache, reg=0.05):\n",
    "        x, a1, a1_relu = cache\n",
    "        N = y.shape[0]\n",
    "        probabilities = self.softmax(scores)\n",
    "        loss = self.c_e_loss(probabilities, y_cls)\n",
    "            \n",
    "        data_loss = loss\n",
    "        reg_loss = reg * 0.5 * np.sum(self.fc_W1*self.fc_W1) + reg * 0.5 * np.sum(self.fc_W2*self.fc_W2)\n",
    "            \n",
    "        loss = data_loss + reg_loss\n",
    "        dscores = probabilities\n",
    "        dscores[range(N),y_cls] =-1\n",
    "        dscores /= N\n",
    "        \n",
    "\n",
    "        db2 = np.sum(dscores, axis=0)\n",
    "        dW2 = np.dot(a1_relu.T, dscores)\n",
    "            \n",
    "        d_reluIn = a1_relu\n",
    "        d_reluIn[a1 <= 0] = 0\n",
    "        \n",
    "        db1 = np.sum(d_reluIn, axis=0)\n",
    "        dW1 = np.dot(x.T, d_reluIn)\n",
    "        dx  = np.dot(d_reluIn, self.fc_W1.T)                   \n",
    "            \n",
    "        return {\"b1\": db1, \"d2\": db2, \"W1\": dW1, \"W2\": dW2, \"x\": dx}\n",
    "    \n",
    "    \n",
    "    def softmax(self, scores):\n",
    "        scores -= np.max(scores, axis=1, keepdims=True)\n",
    "        e_scores = np.exp(scores)\n",
    "        return e_scores/ np.sum(e_scores, axis=1, keepdims=True) \n",
    "    \n",
    "    def c_e_loss(self, probs, labels):\n",
    "        N = probs.shape[0]\n",
    "        print(labels.shape)\n",
    "        print(\"N\", N)\n",
    "        return (np.sum(-np.log(probs[range(N), labels])) / N)\n",
    "        \n",
    "        \n",
    "    def loss(x, y, y_gt, reg, num_iterations, sample_size, learning_rate):\n",
    "        \n",
    "        num_samples = x.shape[0]\n",
    "        num_epochs = sample_size / num_samples\n",
    "        \n",
    "        for it in range(num_iterations):\n",
    "            batch_idx = np.random.randint(num_samples, size=sample_size)\n",
    "            \n",
    "            y_batch = y[batch_idx]    \n",
    "            y_batch_cls = y_gt[batch_idx]\n",
    "            x_batch = x[batch_idx]\n",
    "            #\n",
    "            # FORWARD PASS\n",
    "            #\n",
    "            # conv layers\n",
    "            c1_out, c1_cache = self.convForward(x_batch, self.c1_filters, self.c1_b)\n",
    "            \n",
    "            c2_out, c2_cache = self.convForward(c1_out, self.c2_filters, self.c2_b)\n",
    "            \n",
    "            # fc layers\n",
    "            # stretch out input - reshape\n",
    "            fc_in_flat = c2_out.reshape(c2_out.shape[0], -1)\n",
    "            \n",
    "            # fc layer\n",
    "            scores, fc_cache = self.fc_forward(fc_in_flat)\n",
    "                 \n",
    "            \n",
    "            #\n",
    "            # BACKWARD PASS\n",
    "            #\n",
    "            fc_grads =  self.fc_backward(y_batch, y_batch_cls, scores, fc_cache)\n",
    "            #\n",
    "            # (UN)Reshape -- change back to shape of kernels\n",
    "            fc_grads['x'] = fc_grads['x'].reshape(c2_out.shape)\n",
    "            \n",
    "            #\n",
    "            #\n",
    "            c2_grads = self.convBackward(fc_grads['x'], c2_cache)\n",
    "            c1_grads = self.convBackward(c2_grads['x'], c1_cache)\n",
    "            \n",
    "            \n",
    "            ##\n",
    "            ## update weights and bias' here\n",
    "            ##\n",
    "            \n",
    "    \n",
    "    def predict(self, x):\n",
    "        c1_out, _ = self.convForward(x, self.c1_filters, self.c1_b)\n",
    "        c2_out, _ = self.convForward(c1_out, self.c2_filters, self.c2_b)\n",
    "        fc_in_flat = c2_out.reshape(c2_out.shape[0], -1)\n",
    "        scores = self.fc_forward(fc_in_flat)\n",
    "        \n",
    "        return np.argmax(scores, axis=1)\n",
    "    \n",
    "    \n",
    "    def backpred(self, x, y, y_cls, sco, cache):\n",
    "\n",
    "        c1_out, c1_cache = self.convForward(x, self.c1_filters, self.c1_b)\n",
    "        c2_out, c2_cache = self.convForward(c1_out, self.c2_filters, self.c2_b)\n",
    "        fc_in_flat = c2_out.reshape(c2_out.shape[0], -1)\n",
    "        print(\"flatening shape: \", fc_in_flat.shape)\n",
    "        probs, cache  = self.fc_forward(fc_in_flat)\n",
    "        \n",
    "        fc_grads =  self.fc_backward(y, y_cls, sco, cache)\n",
    "        print(\"dx, shape: \", fc_grads['x'].shape)\n",
    "        print(\"dw1, shape: \", fc_grads['W1'].shape)\n",
    "        print(\"dw2, shape: \", fc_grads['W2'].shape)\n",
    "        fc_grads['x'] = fc_grads['x'].reshape(c2_out.shape)\n",
    "        c2_grads = self.convBackward(fc_grads['x'], c2_cache)\n",
    "        c1_grads = self.convBackward(c2_grads['x'], c1_cache)\n",
    "        \n",
    "        \n",
    "            "
   ]
  },
  {
   "cell_type": "code",
   "execution_count": 194,
   "metadata": {},
   "outputs": [],
   "source": [
    "## train model on dataset \n",
    "model = Model(initial_params=(1,2))\n"
   ]
  },
  {
   "cell_type": "code",
   "execution_count": 195,
   "metadata": {},
   "outputs": [
    {
     "name": "stdout",
     "output_type": "stream",
     "text": [
      "(10000, 28, 28)\n"
     ]
    }
   ],
   "source": [
    "print(test_data.shape)"
   ]
  },
  {
   "cell_type": "code",
   "execution_count": 196,
   "metadata": {},
   "outputs": [
    {
     "name": "stdout",
     "output_type": "stream",
     "text": [
      "(2, 28, 28)\n",
      "(2, 1, 28, 28)\n",
      "(10000, 28, 28)\n",
      "(2, 1, 28, 28)\n",
      "[7 2]\n",
      "[7 2]\n"
     ]
    }
   ],
   "source": [
    "a = test_data[0:2]#[np.newaxis, np.newaxis, :]\n",
    "print(a.shape)\n",
    "a = a[:, np.newaxis,:,:]\n",
    "print(a.shape)\n",
    "print(test_data.shape)\n",
    "print(a.shape)\n",
    "ay = test_labels[0:2]\n",
    "ay_cls = test_labels[0:2].astype(int)\n",
    "print(ay)\n",
    "print(ay_cls)"
   ]
  },
  {
   "cell_type": "code",
   "execution_count": 59,
   "metadata": {},
   "outputs": [
    {
     "name": "stdout",
     "output_type": "stream",
     "text": [
      "(2, 10)\n"
     ]
    }
   ],
   "source": [
    "#probs, cache = model.predict(a)\n",
    "#print(probs.shape)"
   ]
  },
  {
   "cell_type": "code",
   "execution_count": 197,
   "metadata": {},
   "outputs": [
    {
     "name": "stdout",
     "output_type": "stream",
     "text": [
      "flatening shape:  (2, 25088)\n",
      "(2,)\n",
      "N 2\n",
      "dx, shape:  (2, 25088)\n",
      "dw1, shape:  (25088, 100)\n",
      "dw2, shape:  (100, 10)\n",
      "(2, 16, 28, 28)\n",
      "(2, 32, 28, 28)\n"
     ]
    },
    {
     "ename": "KeyboardInterrupt",
     "evalue": "",
     "output_type": "error",
     "traceback": [
      "\u001b[0;31m---------------------------------------------------------------------------\u001b[0m",
      "\u001b[0;31mKeyboardInterrupt\u001b[0m                         Traceback (most recent call last)",
      "\u001b[0;32m<ipython-input-197-a9cb89ba7d23>\u001b[0m in \u001b[0;36m<module>\u001b[0;34m()\u001b[0m\n\u001b[0;32m----> 1\u001b[0;31m \u001b[0mthing1\u001b[0m\u001b[0;34m,\u001b[0m \u001b[0mthing2\u001b[0m \u001b[0;34m=\u001b[0m \u001b[0mmodel\u001b[0m\u001b[0;34m.\u001b[0m\u001b[0mbackpred\u001b[0m\u001b[0;34m(\u001b[0m\u001b[0ma\u001b[0m\u001b[0;34m,\u001b[0m \u001b[0may\u001b[0m\u001b[0;34m,\u001b[0m \u001b[0may_cls\u001b[0m\u001b[0;34m,\u001b[0m \u001b[0mprobs\u001b[0m\u001b[0;34m,\u001b[0m \u001b[0mcache\u001b[0m\u001b[0;34m)\u001b[0m\u001b[0;34m\u001b[0m\u001b[0m\n\u001b[0m",
      "\u001b[0;32m<ipython-input-193-8c297e4809c5>\u001b[0m in \u001b[0;36mbackpred\u001b[0;34m(self, x, y, y_cls, sco, cache)\u001b[0m\n\u001b[1;32m    198\u001b[0m         \u001b[0mprint\u001b[0m\u001b[0;34m(\u001b[0m\u001b[0;34m\"dw2, shape: \"\u001b[0m\u001b[0;34m,\u001b[0m \u001b[0mfc_grads\u001b[0m\u001b[0;34m[\u001b[0m\u001b[0;34m'W2'\u001b[0m\u001b[0;34m]\u001b[0m\u001b[0;34m.\u001b[0m\u001b[0mshape\u001b[0m\u001b[0;34m)\u001b[0m\u001b[0;34m\u001b[0m\u001b[0m\n\u001b[1;32m    199\u001b[0m         \u001b[0mfc_grads\u001b[0m\u001b[0;34m[\u001b[0m\u001b[0;34m'x'\u001b[0m\u001b[0;34m]\u001b[0m \u001b[0;34m=\u001b[0m \u001b[0mfc_grads\u001b[0m\u001b[0;34m[\u001b[0m\u001b[0;34m'x'\u001b[0m\u001b[0;34m]\u001b[0m\u001b[0;34m.\u001b[0m\u001b[0mreshape\u001b[0m\u001b[0;34m(\u001b[0m\u001b[0mc2_out\u001b[0m\u001b[0;34m.\u001b[0m\u001b[0mshape\u001b[0m\u001b[0;34m)\u001b[0m\u001b[0;34m\u001b[0m\u001b[0m\n\u001b[0;32m--> 200\u001b[0;31m         \u001b[0mc1_grads\u001b[0m \u001b[0;34m=\u001b[0m \u001b[0mself\u001b[0m\u001b[0;34m.\u001b[0m\u001b[0mconvBackward\u001b[0m\u001b[0;34m(\u001b[0m\u001b[0mfc_grads\u001b[0m\u001b[0;34m[\u001b[0m\u001b[0;34m'x'\u001b[0m\u001b[0;34m]\u001b[0m\u001b[0;34m,\u001b[0m \u001b[0mc2_cache\u001b[0m\u001b[0;34m)\u001b[0m\u001b[0;34m\u001b[0m\u001b[0m\n\u001b[0m\u001b[1;32m    201\u001b[0m \u001b[0;34m\u001b[0m\u001b[0m\n\u001b[1;32m    202\u001b[0m \u001b[0;34m\u001b[0m\u001b[0m\n",
      "\u001b[0;32m<ipython-input-193-8c297e4809c5>\u001b[0m in \u001b[0;36mconvBackward\u001b[0;34m(self, dout, cache)\u001b[0m\n\u001b[1;32m     78\u001b[0m                             \u001b[0;32mfor\u001b[0m \u001b[0mww\u001b[0m \u001b[0;32min\u001b[0m \u001b[0mrange\u001b[0m\u001b[0;34m(\u001b[0m\u001b[0mWw\u001b[0m\u001b[0;34m)\u001b[0m\u001b[0;34m:\u001b[0m\u001b[0;34m\u001b[0m\u001b[0m\n\u001b[1;32m     79\u001b[0m                                 \u001b[0mmask1\u001b[0m \u001b[0;34m=\u001b[0m \u001b[0mnp\u001b[0m\u001b[0;34m.\u001b[0m\u001b[0mzeros_like\u001b[0m\u001b[0;34m(\u001b[0m\u001b[0mk\u001b[0m\u001b[0;34m[\u001b[0m\u001b[0mf\u001b[0m\u001b[0;34m,\u001b[0m \u001b[0;34m:\u001b[0m\u001b[0;34m,\u001b[0m \u001b[0;34m:\u001b[0m\u001b[0;34m,\u001b[0m \u001b[0;34m:\u001b[0m\u001b[0;34m]\u001b[0m\u001b[0;34m)\u001b[0m \u001b[0;31m#which part of the mask did you mingle with\u001b[0m\u001b[0;34m\u001b[0m\u001b[0m\n\u001b[0;32m---> 80\u001b[0;31m                                 \u001b[0mmask2\u001b[0m \u001b[0;34m=\u001b[0m \u001b[0mnp\u001b[0m\u001b[0;34m.\u001b[0m\u001b[0mzeros_like\u001b[0m\u001b[0;34m(\u001b[0m\u001b[0mk\u001b[0m\u001b[0;34m[\u001b[0m\u001b[0mf\u001b[0m\u001b[0;34m,\u001b[0m \u001b[0;34m:\u001b[0m\u001b[0;34m,\u001b[0m \u001b[0;34m:\u001b[0m\u001b[0;34m,\u001b[0m \u001b[0;34m:\u001b[0m\u001b[0;34m]\u001b[0m\u001b[0;34m)\u001b[0m\u001b[0;34m\u001b[0m\u001b[0m\n\u001b[0m\u001b[1;32m     81\u001b[0m                                 \u001b[0;32mif\u001b[0m \u001b[0;34m(\u001b[0m\u001b[0mh\u001b[0m \u001b[0;34m+\u001b[0m \u001b[0mpad\u001b[0m\u001b[0;34m-\u001b[0m\u001b[0mhh\u001b[0m \u001b[0;34m*\u001b[0m \u001b[0mstride\u001b[0m\u001b[0;34m)\u001b[0m \u001b[0;34m<\u001b[0m \u001b[0mHH\u001b[0m \u001b[0;32mand\u001b[0m \u001b[0;34m(\u001b[0m\u001b[0mh\u001b[0m \u001b[0;34m+\u001b[0m \u001b[0mpad\u001b[0m \u001b[0;34m-\u001b[0m\u001b[0mhh\u001b[0m \u001b[0;34m*\u001b[0m\u001b[0mstride\u001b[0m\u001b[0;34m)\u001b[0m \u001b[0;34m>=\u001b[0m\u001b[0;36m0\u001b[0m\u001b[0;34m:\u001b[0m\u001b[0;34m\u001b[0m\u001b[0m\n\u001b[1;32m     82\u001b[0m                                       \u001b[0mmask1\u001b[0m\u001b[0;34m[\u001b[0m\u001b[0;34m:\u001b[0m\u001b[0;34m,\u001b[0m \u001b[0mh\u001b[0m \u001b[0;34m+\u001b[0m \u001b[0mpad\u001b[0m \u001b[0;34m-\u001b[0m \u001b[0mhh\u001b[0m \u001b[0;34m*\u001b[0m \u001b[0mstride\u001b[0m\u001b[0;34m,\u001b[0m \u001b[0;34m:\u001b[0m\u001b[0;34m]\u001b[0m \u001b[0;34m=\u001b[0m \u001b[0;36m1.0\u001b[0m\u001b[0;34m\u001b[0m\u001b[0m\n",
      "\u001b[0;32m~/Documents/dev_tuts/cs231/virtualenvs/cs231_1/lib/python3.5/site-packages/numpy/core/numeric.py\u001b[0m in \u001b[0;36mzeros_like\u001b[0;34m(a, dtype, order, subok)\u001b[0m\n\u001b[1;32m    144\u001b[0m     \u001b[0;31m# needed instead of a 0 to get same result as zeros for for string dtypes\u001b[0m\u001b[0;34m\u001b[0m\u001b[0;34m\u001b[0m\u001b[0m\n\u001b[1;32m    145\u001b[0m     \u001b[0mz\u001b[0m \u001b[0;34m=\u001b[0m \u001b[0mzeros\u001b[0m\u001b[0;34m(\u001b[0m\u001b[0;36m1\u001b[0m\u001b[0;34m,\u001b[0m \u001b[0mdtype\u001b[0m\u001b[0;34m=\u001b[0m\u001b[0mres\u001b[0m\u001b[0;34m.\u001b[0m\u001b[0mdtype\u001b[0m\u001b[0;34m)\u001b[0m\u001b[0;34m\u001b[0m\u001b[0m\n\u001b[0;32m--> 146\u001b[0;31m     \u001b[0mmultiarray\u001b[0m\u001b[0;34m.\u001b[0m\u001b[0mcopyto\u001b[0m\u001b[0;34m(\u001b[0m\u001b[0mres\u001b[0m\u001b[0;34m,\u001b[0m \u001b[0mz\u001b[0m\u001b[0;34m,\u001b[0m \u001b[0mcasting\u001b[0m\u001b[0;34m=\u001b[0m\u001b[0;34m'unsafe'\u001b[0m\u001b[0;34m)\u001b[0m\u001b[0;34m\u001b[0m\u001b[0m\n\u001b[0m\u001b[1;32m    147\u001b[0m     \u001b[0;32mreturn\u001b[0m \u001b[0mres\u001b[0m\u001b[0;34m\u001b[0m\u001b[0m\n\u001b[1;32m    148\u001b[0m \u001b[0;34m\u001b[0m\u001b[0m\n",
      "\u001b[0;31mKeyboardInterrupt\u001b[0m: "
     ]
    }
   ],
   "source": [
    "thing1, thing2 = model.backpred(a, ay, ay_cls, probs, cache)"
   ]
  },
  {
   "cell_type": "code",
   "execution_count": null,
   "metadata": {},
   "outputs": [],
   "source": []
  }
 ],
 "metadata": {
  "kernelspec": {
   "display_name": "Python 3",
   "language": "python",
   "name": "python3"
  },
  "language_info": {
   "codemirror_mode": {
    "name": "ipython",
    "version": 3
   },
   "file_extension": ".py",
   "mimetype": "text/x-python",
   "name": "python",
   "nbconvert_exporter": "python",
   "pygments_lexer": "ipython3",
   "version": "3.5.3"
  }
 },
 "nbformat": 4,
 "nbformat_minor": 2
}
